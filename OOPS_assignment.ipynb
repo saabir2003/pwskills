{
  "nbformat": 4,
  "nbformat_minor": 0,
  "metadata": {
    "colab": {
      "provenance": [],
      "authorship_tag": "ABX9TyMShaCueblFpV2RjhJnRwB2",
      "include_colab_link": true
    },
    "kernelspec": {
      "name": "python3",
      "display_name": "Python 3"
    },
    "language_info": {
      "name": "python"
    }
  },
  "cells": [
    {
      "cell_type": "markdown",
      "metadata": {
        "id": "view-in-github",
        "colab_type": "text"
      },
      "source": [
        "<a href=\"https://colab.research.google.com/github/saabir2003/pwskills/blob/main/OOPS_assignment.ipynb\" target=\"_parent\"><img src=\"https://colab.research.google.com/assets/colab-badge.svg\" alt=\"Open In Colab\"/></a>"
      ]
    },
    {
      "cell_type": "markdown",
      "source": [
        "###1)What are the five key concepts of Object-Oriented Programming (OOP)?"
      ],
      "metadata": {
        "id": "P8U8bgOVIu9w"
      }
    },
    {
      "cell_type": "markdown",
      "source": [
        "the five key concept are :\n",
        "\n",
        "method:-\n",
        "\n",
        "inheritance:-in this concept there is a child class and parent class\n",
        "The child class inheritnce all the properties and methods of parent class using super() method\n",
        "\n",
        "\n",
        "abstraction:-this concept is used when we need to hide unnesary details about class and defines structure that is required in child class\n",
        "\n",
        "it has two types of classes concrete method and abstact method\n",
        "\n",
        "abtract methhhhod are forced upon child class whereas concrete class are directly inherited upon child class\n",
        "\n",
        "we can define basic structure in abract class which can be forced on child classes\n",
        "\n",
        "\n",
        "polymorphism:-poly means many it is a proprety where a function can take many forms and execute in any defined manner\n",
        "\n",
        "polymorphism can be done in two ways overriding and overloading\n",
        "\n",
        "overriding is done when a method in child class is redined from parent class\n",
        "\n",
        "the method in child class is overrides the method in parent class\n",
        "\n",
        "overloading is done when the class has two method with same name and different parameters the method adopts to given parameters\n",
        "\n",
        "encapulation:-this invloves hiding private data and accessing them using access modifiersthey are private , protected, public\n",
        "private data is made by double underscore, protected data is made is made using single underscore and public data is made using common no underscore"
      ],
      "metadata": {
        "id": "cEyfKSSZI3Vw"
      }
    },
    {
      "cell_type": "markdown",
      "source": [
        "### 2) Write a Python class for a `Car` with attributes for `make`, `model`, and `year`. Include a method to display the car's information."
      ],
      "metadata": {
        "id": "H3dmLCFMyjsy"
      }
    },
    {
      "cell_type": "code",
      "execution_count": null,
      "metadata": {
        "id": "ECbT2RWqFktd",
        "colab": {
          "base_uri": "https://localhost:8080/"
        },
        "outputId": "2fed77b3-c50f-4476-d0f2-cb9dd909499b"
      },
      "outputs": [
        {
          "output_type": "stream",
          "name": "stdout",
          "text": [
            "Make: BWW\n",
            "Model: X5\n",
            "Year: 2023\n"
          ]
        }
      ],
      "source": [
        "class Car:\n",
        "    def __init__(self, make, model, year):\n",
        "        self.make = make\n",
        "        self.model = model\n",
        "        self.year = year\n",
        "    def display_info(self):\n",
        "        print(f\"Make: {self.make}\")\n",
        "        print(f\"Model: {self.model}\")\n",
        "        print(f\"Year: {self.year}\")\n",
        "c1=Car(\"BWW\",\"X5\",2023)\n",
        "c1.display_info()"
      ]
    },
    {
      "cell_type": "markdown",
      "source": [
        "### 3) Explain the difference between instance methods and class methods. Provide an example of each."
      ],
      "metadata": {
        "id": "5CdQe5hezKGV"
      }
    },
    {
      "cell_type": "markdown",
      "source": [
        "instance methods are also known as static methods where we can edit only attributes related to instance created in by user we can cannot edit the class varabile which can store genral data about the class such as count, etc,\n",
        "\n",
        "instance methods are defined by `@staticmethod`\n",
        "\n",
        "class methods are defined by `@classmethod`\n",
        "\n",
        "class method diredctly binds to class and acts as a class prperty which store data about class\n",
        "\n",
        "`example are:-`"
      ],
      "metadata": {
        "id": "0R0eIiEYzNRO"
      }
    },
    {
      "cell_type": "code",
      "source": [
        "\n",
        "class MyClass:\n",
        "    class_variable = 0  # Class variable\n",
        "\n",
        "    def __init__(self, instance_variable):\n",
        "        self.instance_variable = instance_variable\n",
        "\n",
        "    def instance_method(self):\n",
        "        \"\"\"\n",
        "        Instance method: Accesses instance variables and can modify them.\n",
        "        \"\"\"\n",
        "        print(f\"Instance variable: {self.instance_variable}\")\n",
        "        self.instance_variable += 1  # Modify instance variable\n",
        "        print(f\"Modified instance variable: {self.instance_variable}\")\n",
        "\n",
        "    @classmethod\n",
        "    def class_method(cls):\n",
        "        \"\"\"\n",
        "        Class method: Accesses and modifies class variables.\n",
        "        \"\"\"\n",
        "        print(f\"Class variable: {cls.class_variable}\")\n",
        "        cls.class_variable += 1  # Modify class variable\n",
        "        print(f\"Modified class variable: {cls.class_variable}\")\n",
        "\n",
        "\n",
        "# Example usage\n",
        "obj1 = MyClass(10)\n",
        "obj1.instance_method()  # Calling instance method\n",
        "\n",
        "MyClass.class_method()  # Calling class method\n",
        "obj2 = MyClass(20)\n",
        "obj2.instance_method()\n",
        "MyClass.class_method()"
      ],
      "metadata": {
        "id": "tza9YhIY8OHp"
      },
      "execution_count": null,
      "outputs": []
    },
    {
      "cell_type": "markdown",
      "source": [
        "### 4) How does Python implement method overloading? Give an example."
      ],
      "metadata": {
        "id": "B6Nh2cux1VM1"
      }
    },
    {
      "cell_type": "markdown",
      "source": [
        "python genarally doesn't support polymorphism they can be performed using overloading and overriding\n",
        "\n",
        "in overloading the methods or functions in writtrn in the same class and have same name but have different parameters when ew call out the function the fuction/method can take any form and perform the operation in block of code accordingly"
      ],
      "metadata": {
        "id": "mlebhCDj1Yke"
      }
    },
    {
      "cell_type": "code",
      "source": [
        "class over:\n",
        "  def __init__(self,name,sec=\"\",age=\"\"):\n",
        "    self.name=name\n",
        "    self.sec=sec\n",
        "    self.age=age\n",
        "  def display(self):\n",
        "    print(self.name,self.sec,self.age if (self.age) else \"\")\n",
        "o1=over(\"saabir\",\"C\",\"20\")\n",
        "o1.display()\n",
        "o2=over(\"saabir\",\"C\")\n",
        "o2.display()"
      ],
      "metadata": {
        "colab": {
          "base_uri": "https://localhost:8080/"
        },
        "id": "9GZFs1cA0sU6",
        "outputId": "170c1535-c6f5-4685-df9c-6e2d5c151f08"
      },
      "execution_count": null,
      "outputs": [
        {
          "output_type": "stream",
          "name": "stdout",
          "text": [
            "saabir C 20\n",
            "saabir C \n"
          ]
        }
      ]
    },
    {
      "cell_type": "code",
      "source": [
        "class over:\n",
        "  def __init__(self,name,sec=\"\",age=\"\"):\n",
        "    self.name=name\n",
        "    self.sec=sec\n",
        "    self.age=age\n",
        "  def display(self):\n",
        "    print(self.name,self.sec,self.age if (self.age) else \"\")\n",
        "o1=over(\"saabir\",\"C\",\"20\")\n",
        "o1.display()\n",
        "o2=over(\"saabir\",\"C\")\n",
        "o2.display()"
      ],
      "metadata": {
        "colab": {
          "base_uri": "https://localhost:8080/"
        },
        "id": "Ie3sbLj14hYj",
        "outputId": "bd4b5828-001b-450e-813a-80518de72997"
      },
      "execution_count": null,
      "outputs": [
        {
          "output_type": "stream",
          "name": "stdout",
          "text": [
            "saabir C 20\n",
            "saabir C \n"
          ]
        }
      ]
    },
    {
      "cell_type": "markdown",
      "source": [
        "### 5) What are the three types of access modifiers in Python? How are they denoted?"
      ],
      "metadata": {
        "id": "hAO9rOj57i35"
      }
    },
    {
      "cell_type": "markdown",
      "source": [
        "A Class in Python has three types of access modifiers:\n",
        "\n",
        "Public Access Modifier: Theoretically, public methods and fields can be accessed directly by any class.\n",
        "\n",
        "denoted by ` `(nothing)\n",
        "\n",
        "Protected Access Modifier: Theoretically, protected methods and fields can be accessed within the same class it is declared and its subclass.\n",
        "\n",
        "denoted by `_`\n",
        "\n",
        "Private Access Modifier: Theoretically, private methods and fields can be only accessed within the same class it is declared.\n",
        "\n",
        "denoted by `__`"
      ],
      "metadata": {
        "id": "tPIc7Dbs7nmC"
      }
    },
    {
      "cell_type": "markdown",
      "source": [
        "### 6) Describe the five types of inheritance in Python. Provide a simple example of multiple inheritance."
      ],
      "metadata": {
        "id": "Zo0l1HxE8DA5"
      }
    },
    {
      "cell_type": "markdown",
      "source": [],
      "metadata": {
        "id": "cXI4GDQL8Go1"
      }
    },
    {
      "cell_type": "code",
      "source": [
        "'''Inheritance in Python allows a class to inherit attributes and methods from another class.\\\n",
        " This mechanism promotes code reuse and establishes a hierarchical relationship between classes.\n",
        "  Here are the five main types of inheritance in Python:'''\n",
        "\n",
        "### 1. Single Inheritance\n",
        "#In single inheritance, a derived class inherits from a single base class. This is the simplest form of inheritance.\n",
        "class Parent:\n",
        "    def show(self):\n",
        "        print(\"This is the parent class.\")\n",
        "\n",
        "class Child(Parent):\n",
        "    def display(self):\n",
        "        print(\"This is the child class.\")\n",
        "\n",
        "# Usage\n",
        "child_instance = Child()\n",
        "child_instance.show()   # Inherited method\n",
        "child_instance.display()  # Child's own method\n",
        "\n",
        "### 2. Multiple Inheritance\n",
        "\"\"\"In multiple inheritance, a derived class can inherit from multiple base classes.\n",
        " This allows the derived class to have access to the attributes and methods of all its base classes.\"\"\"\n",
        "\n",
        "\n",
        "class Base1:\n",
        "    def method1(self):\n",
        "        print(\"Method from Base1\")\n",
        "\n",
        "class Base2:\n",
        "    def method2(self):\n",
        "        print(\"Method from Base2\")\n",
        "\n",
        "class Derived(Base1, Base2):\n",
        "    def method3(self):\n",
        "        print(\"Method from Derived class\")\n",
        "\n",
        "# Usage\n",
        "derived_instance = Derived()\n",
        "derived_instance.method1()  # From Base1\n",
        "derived_instance.method2()  # From Base2\n",
        "derived_instance.method3()  # From Derived\n",
        "\n",
        "\n",
        "### 3. Multilevel Inheritance\n",
        "#In multilevel inheritance, a class derives from another derived class, forming a hierarchy of classes.\n",
        "\n",
        "\n",
        "class Grandparent:\n",
        "    def show(self):\n",
        "        print(\"This is the grandparent class.\")\n",
        "\n",
        "class Parent(Grandparent):\n",
        "    def display(self):\n",
        "        print(\"This is the parent class.\")\n",
        "\n",
        "class Child(Parent):\n",
        "    def greet(self):\n",
        "        print(\"This is the child class.\")\n",
        "\n",
        "# Usage\n",
        "child_instance = Child()\n",
        "child_instance.show()    # From Grandparent\n",
        "child_instance.display() # From Parent\n",
        "child_instance.greet()   # From Child\n",
        "\n",
        "\n",
        "### 4. Hierarchical Inheritance\n",
        "#In hierarchical inheritance, multiple derived classes inherit from a single base class.\n",
        "\n",
        "\n",
        "class Animal:\n",
        "    def speak(self):\n",
        "        print(\"Animal speaks\")\n",
        "\n",
        "class Dog(Animal):\n",
        "    def bark(self):\n",
        "        print(\"Dog barks\")\n",
        "\n",
        "class Cat(Animal):\n",
        "    def meow(self):\n",
        "        print(\"Cat meows\")\n",
        "\n",
        "# Usage\n",
        "dog_instance = Dog()\n",
        "dog_instance.speak()  # Inherited from Animal\n",
        "dog_instance.bark()\n",
        "\n",
        "cat_instance = Cat()\n",
        "cat_instance.speak()  # Inherited from Animal\n",
        "cat_instance.meow()\n",
        "\n",
        "\n",
        "### 5. Hybrid Inheritance\n",
        "#Hybrid inheritance is a combination of two or more types of inheritance. It can involve single, multiple, and multilevel inheritance in various combinations.\n",
        "\n",
        "\n",
        "class A:\n",
        "    def method_A(self):\n",
        "        print(\"Method A\")\n",
        "\n",
        "class B(A):\n",
        "    def method_B(self):\n",
        "        print(\"Method B\")\n",
        "\n",
        "class C(A):\n",
        "    def method_C(self):\n",
        "        print(\"Method C\")\n",
        "\n",
        "class D(B, C):\n",
        "    def method_D(self):\n",
        "        print(\"Method D\")\n",
        "\n",
        "# Usage\n",
        "d_instance = D()\n",
        "d_instance.method_A()  # From A\n",
        "d_instance.method_B()  # From B\n",
        "d_instance.method_C()  # From C\n",
        "d_instance.method_D()  # From D\n",
        "\n"
      ],
      "metadata": {
        "colab": {
          "base_uri": "https://localhost:8080/"
        },
        "id": "Dwr4U_CM7D-V",
        "outputId": "9ba91b99-4c97-4c5c-9ad0-efeca53db07d"
      },
      "execution_count": null,
      "outputs": [
        {
          "output_type": "stream",
          "name": "stdout",
          "text": [
            "This is the parent class.\n",
            "This is the child class.\n",
            "Method from Base1\n",
            "Method from Base2\n",
            "Method from Derived class\n",
            "This is the grandparent class.\n",
            "This is the parent class.\n",
            "This is the child class.\n",
            "Animal speaks\n",
            "Dog barks\n",
            "Animal speaks\n",
            "Cat meows\n",
            "Method A\n",
            "Method B\n",
            "Method C\n",
            "Method D\n"
          ]
        }
      ]
    },
    {
      "cell_type": "markdown",
      "source": [
        "### 7)What is the Method Resolution Order (MRO) in Python? How can you retrieve it programmatically?"
      ],
      "metadata": {
        "id": "XG-tMnNqZp6r"
      }
    },
    {
      "cell_type": "markdown",
      "source": [
        "method resolution order is used in inheriatance\n",
        "\n",
        "it is used to resolve multiple conficts while inheriating multiple classes into a single class\n",
        "\n",
        "when a the two or more parent classes have same names of attributes or methods then there can be a confict where the system will not know which method or attribute to follow or to use\n",
        "\n",
        "python automatically resolves this issue where the fisrt class inherited becomes a priority and the method is resolved accordingly\n",
        "\n",
        "we can set the priority of class by arranging or inhering the classes in particular way or in a particular order"
      ],
      "metadata": {
        "id": "wk_7ZS3AZr_f"
      }
    },
    {
      "cell_type": "markdown",
      "source": [
        "### 8)Create an abstract base class `Shape` with an abstract method `area()`. Then create two subclasses\n",
        "`Circle` and `Rectangle` that implement the `area()` method.\n"
      ],
      "metadata": {
        "id": "rF7sc8t4TGea"
      }
    },
    {
      "cell_type": "code",
      "source": [
        "# abstract class\n",
        "from abc import ABC, abstractmethod\n",
        "\n",
        "class Shape(ABC):\n",
        "    @abstractmethod\n",
        "    def area(self):\n",
        "        pass\n",
        "class Circle(Shape):\n",
        "    def __init__(self, radius):\n",
        "        self.radius = radius\n",
        "\n",
        "    def area(self):\n",
        "        return 3.14 * self.radius * self.radius\n",
        "class Rectangle(Shape):\n",
        "    def __init__(self, length, width):\n",
        "        self.length = length\n",
        "        self.width = width\n",
        "\n",
        "    def area(self):\n",
        "        return self.length * self.width\n",
        "c1=Circle(5)\n",
        "print(c1.area())\n",
        "r1=Rectangle(5,6)\n",
        "print(r1.area())"
      ],
      "metadata": {
        "id": "8ba-Sfb-Zkmf",
        "colab": {
          "base_uri": "https://localhost:8080/"
        },
        "outputId": "d687ae41-e7d8-4063-9ce8-0506badaf117"
      },
      "execution_count": 1,
      "outputs": [
        {
          "output_type": "stream",
          "name": "stdout",
          "text": [
            "78.5\n",
            "30\n"
          ]
        }
      ]
    },
    {
      "cell_type": "markdown",
      "source": [
        "### 9) Demonstrate polymorphism by creating a function that can work with different shape objects to calculate and print their areas."
      ],
      "metadata": {
        "id": "T1qk9_AXTh4i"
      }
    },
    {
      "cell_type": "code",
      "source": [
        "#polymorphism\n",
        "from math import pi\n",
        "\n",
        "# Base class Shape\n",
        "class Shape:\n",
        "    def area(self):\n",
        "        raise NotImplementedError(\"Subclasses must implement this method\")\n",
        "\n",
        "# Circle subclass\n",
        "class Circle(Shape):\n",
        "    def __init__(self, radius):\n",
        "        self.radius = radius\n",
        "\n",
        "    def area(self):\n",
        "        return pi * (self.radius ** 2)\n",
        "\n",
        "# Rectangle subclass\n",
        "class Rectangle(Shape):\n",
        "    def __init__(self, width, height):\n",
        "        self.width = width\n",
        "        self.height = height\n",
        "\n",
        "    def area(self):\n",
        "        return self.width * self.height\n",
        "\n",
        "# Triangle subclass\n",
        "class Triangle(Shape):\n",
        "    def __init__(self, base, height):\n",
        "        self.base = base\n",
        "        self.height = height\n",
        "\n",
        "    def area(self):\n",
        "        return 0.5 * self.base * self.height\n",
        "\n",
        "# Function to calculate and print the area of any shape\n",
        "def print_area(shape: Shape):\n",
        "    print(f\"The area of the shape is: {shape.area()}\")\n",
        "\n",
        "# Create instances of each shape\n",
        "circle = Circle(5)\n",
        "rectangle = Rectangle(4, 6)\n",
        "triangle = Triangle(4, 3)\n",
        "\n",
        "# Demonstrate polymorphism by calling the same function for different shapes\n",
        "print_area(circle)       # Will print the area of the circle\n",
        "print_area(rectangle)    # Will print the area of the rectangle\n",
        "print_area(triangle)     # Will print the area of the triangle\n"
      ],
      "metadata": {
        "colab": {
          "base_uri": "https://localhost:8080/"
        },
        "id": "r19RWmoWTd71",
        "outputId": "4d6ef100-194f-45ea-d0dd-5b624f4a6cbe"
      },
      "execution_count": 2,
      "outputs": [
        {
          "output_type": "stream",
          "name": "stdout",
          "text": [
            "The area of the shape is: 78.53981633974483\n",
            "The area of the shape is: 24\n",
            "The area of the shape is: 6.0\n"
          ]
        }
      ]
    },
    {
      "cell_type": "markdown",
      "source": [
        "### 10) Implement encapsulation in a `BankAccount` class with private attributes for `balance` and `account_number` Include methods for deposit, withdrawal, and balance inquiry."
      ],
      "metadata": {
        "id": "qlKZ8xYNV0z2"
      }
    },
    {
      "cell_type": "code",
      "source": [
        "class BankAccount:\n",
        "    def __init__(self, account_number, initial_balance=0):\n",
        "        self.__account_number = account_number\n",
        "        self.__balance = initial_balance\n",
        "    def deposit(self, amount):\n",
        "      if amount > 0:\n",
        "          self.__balance += amount\n",
        "          print(f\"Deposited ${amount}. New balance: ${self.__balance}\")\n",
        "    def withdrawal(self,amount):\n",
        "      if amount > 0 and self.__balance >= amount:\n",
        "        self.__balance -= amount\n",
        "        print(f\"Withdrew ${amount}. New balance: ${self.__balance}\")\n",
        "      else:\n",
        "        print(\"Invalid withdrawal amount or insufficient funds.\")\n",
        "    def balance_inquiry(self):\n",
        "      return self.__balance\n",
        "account1 = BankAccount(\"123456789\", 1000)\n",
        "account1.deposit(500)\n",
        "account1.withdrawal(200)\n",
        "print(f\"Current balance: ${account1.balance_inquiry()}\")"
      ],
      "metadata": {
        "colab": {
          "base_uri": "https://localhost:8080/"
        },
        "id": "waYsXGlQVxWf",
        "outputId": "5da174cc-34e2-41b2-c2bc-38095f8add4f"
      },
      "execution_count": 3,
      "outputs": [
        {
          "output_type": "stream",
          "name": "stdout",
          "text": [
            "Deposited $500. New balance: $1500\n",
            "Withdrew $200. New balance: $1300\n",
            "Current balance: $1300\n"
          ]
        }
      ]
    },
    {
      "cell_type": "markdown",
      "source": [
        "### 11) Write a class that overrides the `__str__` and `__add__` magic methods. What will these methods allow you to do?"
      ],
      "metadata": {
        "id": "ZiLdzRLAW16d"
      }
    },
    {
      "cell_type": "code",
      "source": [
        "class Basic:\n",
        "    def __init__(self,name,age):\n",
        "        self.name=name\n",
        "        self.age=age\n",
        "    def __str__(self):\n",
        "        return f\"name: {self.name}, age: {self.age}\"\n",
        "    def __add__(self):\n",
        "      return self.name+self.age\n",
        "b1=Basic(\"saabir\",20)\n",
        "print(b1)"
      ],
      "metadata": {
        "colab": {
          "base_uri": "https://localhost:8080/"
        },
        "id": "rOkxnMMuWyg2",
        "outputId": "4955a02f-d35e-4d4b-d824-35317a064c96"
      },
      "execution_count": 4,
      "outputs": [
        {
          "output_type": "stream",
          "name": "stdout",
          "text": [
            "name: saabir, age: 20\n"
          ]
        }
      ]
    },
    {
      "cell_type": "markdown",
      "source": [
        "`__str__` method returns a string when we call the object in print statement\n",
        "`__add__` method returns the sum of two or more number or intances in separate class atributes"
      ],
      "metadata": {
        "id": "N1wBJR9qXW3B"
      }
    },
    {
      "cell_type": "markdown",
      "source": [
        "### 12) Create a decorator that measures and prints the execution time of a function."
      ],
      "metadata": {
        "id": "NaZlHj-PZNUQ"
      }
    },
    {
      "cell_type": "code",
      "source": [
        "import time\n",
        "def tim(func):\n",
        "  def wapper():\n",
        "    s=time.time()\n",
        "    func()\n",
        "    e=time.time()\n",
        "    return f\"time taken to complete function is {e-s}\"\n",
        "  return wapper\n",
        "@tim\n",
        "def cal():\n",
        "  for i in range(100000000):\n",
        "    pass\n",
        "print(cal())"
      ],
      "metadata": {
        "colab": {
          "base_uri": "https://localhost:8080/"
        },
        "id": "IDVF8zy1XTIK",
        "outputId": "d81d823e-4ac9-4713-f025-4dec4c4aafba"
      },
      "execution_count": 6,
      "outputs": [
        {
          "output_type": "stream",
          "name": "stdout",
          "text": [
            "time taken to complete function is 3.235865354537964\n"
          ]
        }
      ]
    },
    {
      "cell_type": "markdown",
      "source": [
        "## 13) Explain the concept of the Diamond Problem in multiple inheritance. How does Python resolve it?"
      ],
      "metadata": {
        "id": "X0ApcCGOZ9MC"
      }
    },
    {
      "cell_type": "markdown",
      "source": [
        "The **Diamond Problem** occurs in multiple inheritance when a class inherits from two classes that share a common ancestor, causing ambiguity in method resolution. For example, if class `D` inherits from both `B` and `C`, and `B` and `C` inherit from a common superclass `A`, Python needs to determine which version of a method from `A` should be called. Python resolves this issue using the **C3 Linearization** algorithm, which determines a consistent **Method Resolution Order (MRO)** to avoid ambiguity. The MRO is computed by considering the inheritance hierarchy and ensuring each class is searched only once in a depth-first order. This ensures that the most specific class is checked first. You can view the MRO of any class using `Class.mro()`. The key points are:\n",
        "1. Python avoids ambiguity by calculating a consistent MRO.\n",
        "2. The method resolution follows a depth-first search with specific rules to ensure no class is visited more than once.\n",
        "3. The C3 algorithm guarantees predictable behavior even in complex multiple inheritance scenarios."
      ],
      "metadata": {
        "id": "aeR8PR9MaV6u"
      }
    },
    {
      "cell_type": "markdown",
      "source": [
        "### 14) Write a class method that keeps track of the number of instances created from a class."
      ],
      "metadata": {
        "id": "JtyfhfDYaZ5f"
      }
    },
    {
      "cell_type": "code",
      "source": [
        "class cal():\n",
        "  count=0\n",
        "  def __init__(self):\n",
        "    cal.count+=1\n",
        "  def add(self,a,b):\n",
        "    return a+b\n",
        "  def sub(self,a,b):\n",
        "    return a-b\n",
        "  def mul(self,a,b):\n",
        "    return a*b\n",
        "  def div(self,a,b):\n",
        "    return a/b\n",
        "  @classmethod\n",
        "  def get_count(cls):\n",
        "    return cls.count\n",
        "c1=cal()\n",
        "c2=cal()\n",
        "c3=cal()\n",
        "cal.get_count()"
      ],
      "metadata": {
        "colab": {
          "base_uri": "https://localhost:8080/"
        },
        "id": "6Y-adnLqZxpa",
        "outputId": "5fc1dbc4-c4c5-41b4-c085-1b84b5d0963d"
      },
      "execution_count": 8,
      "outputs": [
        {
          "output_type": "execute_result",
          "data": {
            "text/plain": [
              "3"
            ]
          },
          "metadata": {},
          "execution_count": 8
        }
      ]
    },
    {
      "cell_type": "markdown",
      "source": [
        "### 15) Implement a static method in a class that checks if a given year is a leap year."
      ],
      "metadata": {
        "id": "qRkgwr9raweT"
      }
    },
    {
      "cell_type": "code",
      "source": [
        "class year():\n",
        "  def __init__(self,year):\n",
        "    self.year=year\n",
        "  @staticmethod\n",
        "  def check(year):\n",
        "    if year%4==0:\n",
        "      return f\"{year} is a leap year\"\n",
        "    else:\n",
        "      return f\"{year} is not a leap year\"\n",
        "year.check(2000)"
      ],
      "metadata": {
        "colab": {
          "base_uri": "https://localhost:8080/",
          "height": 36
        },
        "id": "DOeOK0sRaoyL",
        "outputId": "b1d76598-55d6-4baa-fbb5-28890c5e43cb"
      },
      "execution_count": 9,
      "outputs": [
        {
          "output_type": "execute_result",
          "data": {
            "text/plain": [
              "'2000 is a leap year'"
            ],
            "application/vnd.google.colaboratory.intrinsic+json": {
              "type": "string"
            }
          },
          "metadata": {},
          "execution_count": 9
        }
      ]
    },
    {
      "cell_type": "code",
      "source": [],
      "metadata": {
        "id": "zQOsiDdna30R"
      },
      "execution_count": null,
      "outputs": []
    }
  ]
}